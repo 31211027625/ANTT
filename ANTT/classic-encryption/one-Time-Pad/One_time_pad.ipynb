{
  "nbformat": 4,
  "nbformat_minor": 0,
  "metadata": {
    "colab": {
      "provenance": []
    },
    "kernelspec": {
      "name": "python3",
      "display_name": "Python 3"
    },
    "language_info": {
      "name": "python"
    }
  },
  "cells": [
    {
      "cell_type": "code",
      "source": [
        "import random"
      ],
      "metadata": {
        "id": "ConDjM0jT66X"
      },
      "execution_count": 7,
      "outputs": []
    },
    {
      "cell_type": "code",
      "source": [
        "# Tạo một chuỗi ngẫu nhiên gồm các ký tự ASCII\n",
        "def generate_key(length):\n",
        "\n",
        "    return ''.join([chr(random.randint(32, 126)) for _ in range(length)])"
      ],
      "metadata": {
        "id": "GoGruI6VT7bD"
      },
      "execution_count": 8,
      "outputs": []
    },
    {
      "cell_type": "code",
      "source": [
        "# Mã hóa văn bản gốc\n",
        "def one_time_pad_encrypt(plaintext, key):\n",
        "    if len(plaintext) != len(key):\n",
        "        raise ValueError(\"Văn bản gốc và khóa phải cùng độ dài \")\n",
        "\n",
        "    ciphertext = \"\"\n",
        "    # Thực hiện phép XOR giữa mỗi ký tự của văn bản gốc và khóa\n",
        "    for i in range(len(plaintext)):\n",
        "        # Đưa kết quả vào văn bản mã hóa\n",
        "        ciphertext += chr(ord(plaintext[i]) ^ ord(key[i]))\n",
        "\n",
        "    return ciphertext"
      ],
      "metadata": {
        "id": "1Dc8jaCQT9QQ"
      },
      "execution_count": 9,
      "outputs": []
    },
    {
      "cell_type": "code",
      "source": [
        "# Giải mã văn bản mã hóa\n",
        "def one_time_pad_decrypt(ciphertext, key):\n",
        "    if len(ciphertext) != len(key):\n",
        "        raise ValueError(\"Văn bản mã hóa và khóa phải cùng độ dài\")\n",
        "\n",
        "    plaintext = \"\"\n",
        "    # Thực hiện phép XOR giữa mỗi ký tự của văn bản mã hóa và khóa\n",
        "    for i in range(len(ciphertext)):\n",
        "\n",
        "        # Đưa kết quả vào văn bản gốc\n",
        "        plaintext += chr(ord(ciphertext[i]) ^ ord(key[i]))\n",
        "\n",
        "    return plaintext"
      ],
      "metadata": {
        "id": "R03y7h-rT_Ei"
      },
      "execution_count": 10,
      "outputs": []
    },
    {
      "cell_type": "code",
      "source": [
        "# Test\n",
        "plaintext = \"Hello, World!\"\n",
        "key = generate_key(len(plaintext))\n",
        "print(\"Văn bản gốc:\", plaintext)\n",
        "print(\"Khóa:\", key)\n",
        "\n",
        "# Mã hóa văn bản\n",
        "ciphertext = one_time_pad_encrypt(plaintext, key)\n",
        "print(\"Văn bản mã hóa:\", ciphertext)"
      ],
      "metadata": {
        "colab": {
          "base_uri": "https://localhost:8080/"
        },
        "id": "nrfvZT4HUCr2",
        "outputId": "a3d27c75-3cb4-440d-dd32-454e6604ffd4"
      },
      "execution_count": 11,
      "outputs": [
        {
          "output_type": "stream",
          "name": "stdout",
          "text": [
            "Văn bản gốc: Hello, World!\n",
            "Khóa: 1y_<N}t;Yka&j\n",
            "Văn bản mã hóa: y\u001c3P!QTl6\u0019\rBK\n"
          ]
        }
      ]
    }
  ]
}